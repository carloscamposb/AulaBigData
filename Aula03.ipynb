{
 "cells": [
  {
   "cell_type": "markdown",
   "metadata": {},
   "source": [
    "# Instruções iniciais\n",
    "\n",
    "1 - Siga as instruções de configuração do ambiente disponibilizadas no README da aula para preparar o seu sistema.\n",
    "\n",
    "2 - Baixar este arquivo no seu computador.\n",
    "\n",
    "3 - Utilize o ambiente virtual (venv) configurado como o kernel para este arquivo.\n",
    "\n",
    "obs.: Notebook da aula no Colab: https://drive.google.com/file/d/1BQjpb56UV2WDknXiocWdE1bmTtqeTkbr/view?usp=sharing\n",
    "\n",
    "### Carregando o conjunto de dados:"
   ]
  },
  {
   "cell_type": "code",
   "execution_count": 10,
   "metadata": {},
   "outputs": [],
   "source": [
    "import pandas as pd\n",
    "import requests\n",
    "from io import StringIO\n",
    "from pandas import read_csv\n",
    "\n",
    "# Criação do dataFrame dos alunos\n",
    "# ID do arquivo no Google Drive\n",
    "file_id = '15aOJIGAyLMSY1gecjiCgu2ko_riIcKQy'\n",
    "\n",
    "# URL modificada para forçar o download do arquivo\n",
    "url = f\"https://drive.google.com/uc?id={file_id}\"\n",
    "\n",
    "# Tentando obter o arquivo com requests\n",
    "try:\n",
    "    response = requests.get(url)\n",
    "    response.raise_for_status()  # Lança um erro para respostas não-sucedidas\n",
    "    # Usando StringIO para converter o texto em um arquivo em memória e, então, lendo com o Pandas\n",
    "    csv_raw = StringIO(response.text)  \n",
    "    estudantes = read_csv(csv_raw)\n",
    "except requests.RequestException as e:\n",
    "    print(f\"Erro ao acessar o arquivo: {e}\")\n"
   ]
  },
  {
   "cell_type": "code",
   "execution_count": 11,
   "metadata": {},
   "outputs": [],
   "source": [
    "#Criação do dataFrame das escolas\n",
    "\n",
    "# ID do arquivo no Google Drive\n",
    "file_id = '1Jgto7psHaMRTAVzcFt7D6SgJiHMB7uGT'\n",
    "\n",
    "# URL modificada para forçar o download do arquivo\n",
    "url = f\"https://drive.google.com/uc?id={file_id}\"\n",
    "\n",
    "# Tentando obter o arquivo com requests\n",
    "try:\n",
    "    response = requests.get(url)\n",
    "    response.raise_for_status()  # Lança um erro para respostas não-sucedidas\n",
    "    # Usando StringIO para converter o texto em um arquivo em memória e, então, lendo com o Pandas\n",
    "    csv_raw = StringIO(response.text)\n",
    "    escolas = read_csv(csv_raw)\n",
    "except requests.RequestException as e:\n",
    "    print(f\"Erro ao acessar o arquivo: {e}\")"
   ]
  },
  {
   "cell_type": "markdown",
   "metadata": {},
   "source": [
    "Analisando os dataframes\n",
    "\n",
    "1 - Escolas"
   ]
  },
  {
   "cell_type": "code",
   "execution_count": 17,
   "metadata": {},
   "outputs": [
    {
     "name": "stdout",
     "output_type": "stream",
     "text": [
      "<class 'pandas.core.frame.DataFrame'>\n",
      "RangeIndex: 15 entries, 0 to 14\n",
      "Data columns (total 5 columns):\n",
      " #   Column           Non-Null Count  Dtype \n",
      "---  ------           --------------  ----- \n",
      " 0   ID_Escola        15 non-null     int64 \n",
      " 1   Nome_Escola      15 non-null     object\n",
      " 2   Tipo_Escola      15 non-null     object\n",
      " 3   Numero_Alunos    15 non-null     int64 \n",
      " 4   Orcamento_Anual  15 non-null     int64 \n",
      "dtypes: int64(3), object(2)\n",
      "memory usage: 728.0+ bytes\n"
     ]
    }
   ],
   "source": [
    "escolas.info()"
   ]
  },
  {
   "cell_type": "markdown",
   "metadata": {},
   "source": [
    "2 - Estudantes"
   ]
  },
  {
   "cell_type": "code",
   "execution_count": 18,
   "metadata": {},
   "outputs": [
    {
     "name": "stdout",
     "output_type": "stream",
     "text": [
      "<class 'pandas.core.frame.DataFrame'>\n",
      "RangeIndex: 39160 entries, 0 to 39159\n",
      "Data columns (total 7 columns):\n",
      " #   Column           Non-Null Count  Dtype \n",
      "---  ------           --------------  ----- \n",
      " 0   ID_Estudante     39160 non-null  int64 \n",
      " 1   Nome_Estudante   39160 non-null  object\n",
      " 2   Genero           39160 non-null  object\n",
      " 3   Serie            39160 non-null  int64 \n",
      " 4   Nome_Escola      39160 non-null  object\n",
      " 5   Nota_Redacao     39160 non-null  int64 \n",
      " 6   Nota_Matematica  39160 non-null  int64 \n",
      "dtypes: int64(4), object(3)\n",
      "memory usage: 2.1+ MB\n"
     ]
    }
   ],
   "source": [
    "estudantes.info()"
   ]
  },
  {
   "cell_type": "code",
   "execution_count": 19,
   "metadata": {},
   "outputs": [
    {
     "data": {
      "text/plain": [
       "ID_Escola          0\n",
       "Nome_Escola        0\n",
       "Tipo_Escola        0\n",
       "Numero_Alunos      0\n",
       "Orcamento_Anual    0\n",
       "dtype: int64"
      ]
     },
     "execution_count": 19,
     "metadata": {},
     "output_type": "execute_result"
    }
   ],
   "source": [
    "# nulos e faltantes\n",
    "escolas.isnull().sum()"
   ]
  },
  {
   "cell_type": "code",
   "execution_count": 20,
   "metadata": {},
   "outputs": [
    {
     "data": {
      "text/plain": [
       "ID_Escola          0\n",
       "Nome_Escola        0\n",
       "Tipo_Escola        0\n",
       "Numero_Alunos      0\n",
       "Orcamento_Anual    0\n",
       "dtype: int64"
      ]
     },
     "execution_count": 20,
     "metadata": {},
     "output_type": "execute_result"
    }
   ],
   "source": [
    "# nulos e faltantes\n",
    "escolas.isna().sum()"
   ]
  },
  {
   "cell_type": "code",
   "execution_count": 24,
   "metadata": {},
   "outputs": [
    {
     "data": {
      "text/plain": [
       "array(['Escola A', 'Escola B', 'Escola C', 'Escola D', 'Escola E',\n",
       "       'Escola F', 'Escola G', 'Escola H', 'Escola I', 'Escola J',\n",
       "       'Escola K', 'Escola L', 'Escola M', 'Escola N', 'Escola O'],\n",
       "      dtype=object)"
      ]
     },
     "execution_count": 24,
     "metadata": {},
     "output_type": "execute_result"
    }
   ],
   "source": [
    "# verificar se toda a tabela esta correta. Porque sabemos que tem relacao entre as escolas e os estudantes e as escolas e mais facil de ver porque vai ate o O.  \n",
    "estudantes['Nome_Escola'].unique()"
   ]
  },
  {
   "cell_type": "markdown",
   "metadata": {},
   "source": [
    "Perguntas:\n",
    "\n",
    "Existem dados faltantes nas tabelas? \n",
    "\n",
    "R: Não.\n",
    "\n",
    "Existe algo em comum nas duas tabelas? \n",
    "\n",
    "R: Sim, o nome de escolas.\n",
    "\n",
    "### Combinando os datasets"
   ]
  },
  {
   "cell_type": "code",
   "execution_count": 26,
   "metadata": {},
   "outputs": [],
   "source": [
    "# Puxa nome de escola relacionado a estudantes e escolas (left join)\n",
    "data=pd.merge(estudantes,\n",
    "              escolas,\n",
    "              how='left',\n",
    "              on=[\"Nome_Escola\",\"Nome_Escola\"])"
   ]
  },
  {
   "cell_type": "code",
   "execution_count": 29,
   "metadata": {},
   "outputs": [
    {
     "data": {
      "text/html": [
       "<div>\n",
       "<style scoped>\n",
       "    .dataframe tbody tr th:only-of-type {\n",
       "        vertical-align: middle;\n",
       "    }\n",
       "\n",
       "    .dataframe tbody tr th {\n",
       "        vertical-align: top;\n",
       "    }\n",
       "\n",
       "    .dataframe thead th {\n",
       "        text-align: right;\n",
       "    }\n",
       "</style>\n",
       "<table border=\"1\" class=\"dataframe\">\n",
       "  <thead>\n",
       "    <tr style=\"text-align: right;\">\n",
       "      <th></th>\n",
       "      <th>ID_Estudante</th>\n",
       "      <th>Nome_Estudante</th>\n",
       "      <th>Genero</th>\n",
       "      <th>Serie</th>\n",
       "      <th>Nome_Escola</th>\n",
       "      <th>Nota_Redacao</th>\n",
       "      <th>Nota_Matematica</th>\n",
       "      <th>ID_Escola</th>\n",
       "      <th>Tipo_Escola</th>\n",
       "      <th>Numero_Alunos</th>\n",
       "      <th>Orcamento_Anual</th>\n",
       "    </tr>\n",
       "  </thead>\n",
       "  <tbody>\n",
       "    <tr>\n",
       "      <th>0</th>\n",
       "      <td>0</td>\n",
       "      <td>Kevin Bradley</td>\n",
       "      <td>M</td>\n",
       "      <td>6</td>\n",
       "      <td>Escola A</td>\n",
       "      <td>66</td>\n",
       "      <td>79</td>\n",
       "      <td>0</td>\n",
       "      <td>Publica</td>\n",
       "      <td>2917</td>\n",
       "      <td>1910635</td>\n",
       "    </tr>\n",
       "    <tr>\n",
       "      <th>1</th>\n",
       "      <td>1</td>\n",
       "      <td>Paul Smith</td>\n",
       "      <td>M</td>\n",
       "      <td>9</td>\n",
       "      <td>Escola A</td>\n",
       "      <td>94</td>\n",
       "      <td>61</td>\n",
       "      <td>0</td>\n",
       "      <td>Publica</td>\n",
       "      <td>2917</td>\n",
       "      <td>1910635</td>\n",
       "    </tr>\n",
       "    <tr>\n",
       "      <th>2</th>\n",
       "      <td>2</td>\n",
       "      <td>John Rodriguez</td>\n",
       "      <td>M</td>\n",
       "      <td>9</td>\n",
       "      <td>Escola A</td>\n",
       "      <td>90</td>\n",
       "      <td>60</td>\n",
       "      <td>0</td>\n",
       "      <td>Publica</td>\n",
       "      <td>2917</td>\n",
       "      <td>1910635</td>\n",
       "    </tr>\n",
       "    <tr>\n",
       "      <th>3</th>\n",
       "      <td>3</td>\n",
       "      <td>Oliver Scott</td>\n",
       "      <td>M</td>\n",
       "      <td>9</td>\n",
       "      <td>Escola A</td>\n",
       "      <td>67</td>\n",
       "      <td>58</td>\n",
       "      <td>0</td>\n",
       "      <td>Publica</td>\n",
       "      <td>2917</td>\n",
       "      <td>1910635</td>\n",
       "    </tr>\n",
       "    <tr>\n",
       "      <th>4</th>\n",
       "      <td>4</td>\n",
       "      <td>William Ray</td>\n",
       "      <td>F</td>\n",
       "      <td>6</td>\n",
       "      <td>Escola A</td>\n",
       "      <td>97</td>\n",
       "      <td>84</td>\n",
       "      <td>0</td>\n",
       "      <td>Publica</td>\n",
       "      <td>2917</td>\n",
       "      <td>1910635</td>\n",
       "    </tr>\n",
       "    <tr>\n",
       "      <th>...</th>\n",
       "      <td>...</td>\n",
       "      <td>...</td>\n",
       "      <td>...</td>\n",
       "      <td>...</td>\n",
       "      <td>...</td>\n",
       "      <td>...</td>\n",
       "      <td>...</td>\n",
       "      <td>...</td>\n",
       "      <td>...</td>\n",
       "      <td>...</td>\n",
       "      <td>...</td>\n",
       "    </tr>\n",
       "    <tr>\n",
       "      <th>39155</th>\n",
       "      <td>39155</td>\n",
       "      <td>John Brooks</td>\n",
       "      <td>M</td>\n",
       "      <td>7</td>\n",
       "      <td>Escola O</td>\n",
       "      <td>92</td>\n",
       "      <td>98</td>\n",
       "      <td>14</td>\n",
       "      <td>Particular</td>\n",
       "      <td>1635</td>\n",
       "      <td>1043130</td>\n",
       "    </tr>\n",
       "    <tr>\n",
       "      <th>39156</th>\n",
       "      <td>39156</td>\n",
       "      <td>Stephanie Contreras</td>\n",
       "      <td>F</td>\n",
       "      <td>8</td>\n",
       "      <td>Escola O</td>\n",
       "      <td>79</td>\n",
       "      <td>95</td>\n",
       "      <td>14</td>\n",
       "      <td>Particular</td>\n",
       "      <td>1635</td>\n",
       "      <td>1043130</td>\n",
       "    </tr>\n",
       "    <tr>\n",
       "      <th>39157</th>\n",
       "      <td>39157</td>\n",
       "      <td>Kristen Gonzalez</td>\n",
       "      <td>F</td>\n",
       "      <td>6</td>\n",
       "      <td>Escola O</td>\n",
       "      <td>79</td>\n",
       "      <td>94</td>\n",
       "      <td>14</td>\n",
       "      <td>Particular</td>\n",
       "      <td>1635</td>\n",
       "      <td>1043130</td>\n",
       "    </tr>\n",
       "    <tr>\n",
       "      <th>39158</th>\n",
       "      <td>39158</td>\n",
       "      <td>Kari Holloway</td>\n",
       "      <td>F</td>\n",
       "      <td>7</td>\n",
       "      <td>Escola O</td>\n",
       "      <td>87</td>\n",
       "      <td>90</td>\n",
       "      <td>14</td>\n",
       "      <td>Particular</td>\n",
       "      <td>1635</td>\n",
       "      <td>1043130</td>\n",
       "    </tr>\n",
       "    <tr>\n",
       "      <th>39159</th>\n",
       "      <td>39159</td>\n",
       "      <td>Kimberly Cabrera</td>\n",
       "      <td>F</td>\n",
       "      <td>8</td>\n",
       "      <td>Escola O</td>\n",
       "      <td>85</td>\n",
       "      <td>72</td>\n",
       "      <td>14</td>\n",
       "      <td>Particular</td>\n",
       "      <td>1635</td>\n",
       "      <td>1043130</td>\n",
       "    </tr>\n",
       "  </tbody>\n",
       "</table>\n",
       "<p>39160 rows × 11 columns</p>\n",
       "</div>"
      ],
      "text/plain": [
       "       ID_Estudante       Nome_Estudante Genero  Serie Nome_Escola  \\\n",
       "0                 0        Kevin Bradley      M      6    Escola A   \n",
       "1                 1           Paul Smith      M      9    Escola A   \n",
       "2                 2       John Rodriguez      M      9    Escola A   \n",
       "3                 3         Oliver Scott      M      9    Escola A   \n",
       "4                 4          William Ray      F      6    Escola A   \n",
       "...             ...                  ...    ...    ...         ...   \n",
       "39155         39155          John Brooks      M      7    Escola O   \n",
       "39156         39156  Stephanie Contreras      F      8    Escola O   \n",
       "39157         39157     Kristen Gonzalez      F      6    Escola O   \n",
       "39158         39158        Kari Holloway      F      7    Escola O   \n",
       "39159         39159     Kimberly Cabrera      F      8    Escola O   \n",
       "\n",
       "       Nota_Redacao  Nota_Matematica  ID_Escola Tipo_Escola  Numero_Alunos  \\\n",
       "0                66               79          0     Publica           2917   \n",
       "1                94               61          0     Publica           2917   \n",
       "2                90               60          0     Publica           2917   \n",
       "3                67               58          0     Publica           2917   \n",
       "4                97               84          0     Publica           2917   \n",
       "...             ...              ...        ...         ...            ...   \n",
       "39155            92               98         14  Particular           1635   \n",
       "39156            79               95         14  Particular           1635   \n",
       "39157            79               94         14  Particular           1635   \n",
       "39158            87               90         14  Particular           1635   \n",
       "39159            85               72         14  Particular           1635   \n",
       "\n",
       "       Orcamento_Anual  \n",
       "0              1910635  \n",
       "1              1910635  \n",
       "2              1910635  \n",
       "3              1910635  \n",
       "4              1910635  \n",
       "...                ...  \n",
       "39155          1043130  \n",
       "39156          1043130  \n",
       "39157          1043130  \n",
       "39158          1043130  \n",
       "39159          1043130  \n",
       "\n",
       "[39160 rows x 11 columns]"
      ]
     },
     "execution_count": 29,
     "metadata": {},
     "output_type": "execute_result"
    }
   ],
   "source": [
    "data"
   ]
  },
  {
   "cell_type": "code",
   "execution_count": 31,
   "metadata": {},
   "outputs": [
    {
     "data": {
      "text/html": [
       "<div>\n",
       "<style scoped>\n",
       "    .dataframe tbody tr th:only-of-type {\n",
       "        vertical-align: middle;\n",
       "    }\n",
       "\n",
       "    .dataframe tbody tr th {\n",
       "        vertical-align: top;\n",
       "    }\n",
       "\n",
       "    .dataframe thead th {\n",
       "        text-align: right;\n",
       "    }\n",
       "</style>\n",
       "<table border=\"1\" class=\"dataframe\">\n",
       "  <thead>\n",
       "    <tr style=\"text-align: right;\">\n",
       "      <th></th>\n",
       "      <th>ID_Estudante</th>\n",
       "      <th>Nome_Estudante</th>\n",
       "      <th>Genero</th>\n",
       "      <th>Serie</th>\n",
       "      <th>Nome_Escola</th>\n",
       "      <th>Nota_Redacao</th>\n",
       "      <th>Nota_Matematica</th>\n",
       "      <th>ID_Escola</th>\n",
       "      <th>Tipo_Escola</th>\n",
       "      <th>Numero_Alunos</th>\n",
       "      <th>Orcamento_Anual</th>\n",
       "    </tr>\n",
       "  </thead>\n",
       "  <tbody>\n",
       "    <tr>\n",
       "      <th>0</th>\n",
       "      <td>0</td>\n",
       "      <td>Kevin Bradley</td>\n",
       "      <td>M</td>\n",
       "      <td>6</td>\n",
       "      <td>Escola A</td>\n",
       "      <td>66</td>\n",
       "      <td>79</td>\n",
       "      <td>0</td>\n",
       "      <td>Publica</td>\n",
       "      <td>2917</td>\n",
       "      <td>1910635</td>\n",
       "    </tr>\n",
       "    <tr>\n",
       "      <th>1</th>\n",
       "      <td>1</td>\n",
       "      <td>Paul Smith</td>\n",
       "      <td>M</td>\n",
       "      <td>9</td>\n",
       "      <td>Escola A</td>\n",
       "      <td>94</td>\n",
       "      <td>61</td>\n",
       "      <td>0</td>\n",
       "      <td>Publica</td>\n",
       "      <td>2917</td>\n",
       "      <td>1910635</td>\n",
       "    </tr>\n",
       "    <tr>\n",
       "      <th>2</th>\n",
       "      <td>2</td>\n",
       "      <td>John Rodriguez</td>\n",
       "      <td>M</td>\n",
       "      <td>9</td>\n",
       "      <td>Escola A</td>\n",
       "      <td>90</td>\n",
       "      <td>60</td>\n",
       "      <td>0</td>\n",
       "      <td>Publica</td>\n",
       "      <td>2917</td>\n",
       "      <td>1910635</td>\n",
       "    </tr>\n",
       "    <tr>\n",
       "      <th>3</th>\n",
       "      <td>3</td>\n",
       "      <td>Oliver Scott</td>\n",
       "      <td>M</td>\n",
       "      <td>9</td>\n",
       "      <td>Escola A</td>\n",
       "      <td>67</td>\n",
       "      <td>58</td>\n",
       "      <td>0</td>\n",
       "      <td>Publica</td>\n",
       "      <td>2917</td>\n",
       "      <td>1910635</td>\n",
       "    </tr>\n",
       "    <tr>\n",
       "      <th>4</th>\n",
       "      <td>4</td>\n",
       "      <td>William Ray</td>\n",
       "      <td>F</td>\n",
       "      <td>6</td>\n",
       "      <td>Escola A</td>\n",
       "      <td>97</td>\n",
       "      <td>84</td>\n",
       "      <td>0</td>\n",
       "      <td>Publica</td>\n",
       "      <td>2917</td>\n",
       "      <td>1910635</td>\n",
       "    </tr>\n",
       "  </tbody>\n",
       "</table>\n",
       "</div>"
      ],
      "text/plain": [
       "   ID_Estudante  Nome_Estudante Genero  Serie Nome_Escola  Nota_Redacao  \\\n",
       "0             0   Kevin Bradley      M      6    Escola A            66   \n",
       "1             1      Paul Smith      M      9    Escola A            94   \n",
       "2             2  John Rodriguez      M      9    Escola A            90   \n",
       "3             3    Oliver Scott      M      9    Escola A            67   \n",
       "4             4     William Ray      F      6    Escola A            97   \n",
       "\n",
       "   Nota_Matematica  ID_Escola Tipo_Escola  Numero_Alunos  Orcamento_Anual  \n",
       "0               79          0     Publica           2917          1910635  \n",
       "1               61          0     Publica           2917          1910635  \n",
       "2               60          0     Publica           2917          1910635  \n",
       "3               58          0     Publica           2917          1910635  \n",
       "4               84          0     Publica           2917          1910635  "
      ]
     },
     "execution_count": 31,
     "metadata": {},
     "output_type": "execute_result"
    }
   ],
   "source": [
    "# mostrando apenas os 5 primeiros\n",
    "data.head()"
   ]
  },
  {
   "cell_type": "markdown",
   "metadata": {},
   "source": [
    "As colunas Genero, Serie e Tipo Escola representam dados categóricos. Como podemos verificar a quantidade de valores distintos que existem em cada categoria? "
   ]
  },
  {
   "cell_type": "code",
   "execution_count": 32,
   "metadata": {},
   "outputs": [
    {
     "data": {
      "text/plain": [
       "array(['M', 'F'], dtype=object)"
      ]
     },
     "execution_count": 32,
     "metadata": {},
     "output_type": "execute_result"
    }
   ],
   "source": [
    "data[\"Genero\"].unique()"
   ]
  },
  {
   "cell_type": "code",
   "execution_count": 33,
   "metadata": {},
   "outputs": [
    {
     "data": {
      "text/plain": [
       "array([6, 9, 8, 7], dtype=int64)"
      ]
     },
     "execution_count": 33,
     "metadata": {},
     "output_type": "execute_result"
    }
   ],
   "source": [
    "data[\"Serie\"].unique()"
   ]
  },
  {
   "cell_type": "code",
   "execution_count": 34,
   "metadata": {},
   "outputs": [
    {
     "data": {
      "text/plain": [
       "array(['Publica', 'Particular'], dtype=object)"
      ]
     },
     "execution_count": 34,
     "metadata": {},
     "output_type": "execute_result"
    }
   ],
   "source": [
    "data[\"Tipo_Escola\"].unique()"
   ]
  },
  {
   "cell_type": "code",
   "execution_count": 36,
   "metadata": {},
   "outputs": [
    {
     "data": {
      "text/plain": [
       "array([6, 7, 8, 9], dtype=int64)"
      ]
     },
     "execution_count": 36,
     "metadata": {},
     "output_type": "execute_result"
    }
   ],
   "source": [
    "# Ordenando as series. O retorno e vazio entao nao da para salvar em uma nova variavel\n",
    "series=data[\"Serie\"].unique()\n",
    "series.sort()\n",
    "series\n"
   ]
  },
  {
   "cell_type": "markdown",
   "metadata": {},
   "source": [
    "### Algumas perguntas:\n",
    "\n",
    "Qual o orçamento total das escolas?"
   ]
  },
  {
   "cell_type": "code",
   "execution_count": 37,
   "metadata": {},
   "outputs": [
    {
     "data": {
      "text/plain": [
       "24649428"
      ]
     },
     "execution_count": 37,
     "metadata": {},
     "output_type": "execute_result"
    }
   ],
   "source": [
    "# Nao usa data porque ele vai duplicar os valores\n",
    "# data['Orcamento_Anual]\n",
    "escolas['Orcamento_Anual'].sum()\n"
   ]
  },
  {
   "cell_type": "markdown",
   "metadata": {},
   "source": [
    "Qual a nota média dos alunos nas disciplinas analisadas?"
   ]
  },
  {
   "cell_type": "code",
   "execution_count": 38,
   "metadata": {},
   "outputs": [],
   "source": [
    "mediaRedacao=data[\"Nota_Redacao\"].mean()\n",
    "mediaMatematica=data[\"Nota_Matematica\"].mean()"
   ]
  },
  {
   "cell_type": "code",
   "execution_count": 39,
   "metadata": {},
   "outputs": [
    {
     "data": {
      "text/plain": [
       "81.87574055158325"
      ]
     },
     "execution_count": 39,
     "metadata": {},
     "output_type": "execute_result"
    }
   ],
   "source": [
    "mediaRedacao"
   ]
  },
  {
   "cell_type": "code",
   "execution_count": 40,
   "metadata": {},
   "outputs": [
    {
     "data": {
      "text/plain": [
       "78.98493360572012"
      ]
     },
     "execution_count": 40,
     "metadata": {},
     "output_type": "execute_result"
    }
   ],
   "source": [
    "mediaMatematica"
   ]
  },
  {
   "cell_type": "markdown",
   "metadata": {},
   "source": [
    "Organizando os resultados"
   ]
  },
  {
   "cell_type": "code",
   "execution_count": 41,
   "metadata": {},
   "outputs": [],
   "source": [
    "#Criando um novo dataframe com o resultado\n",
    "resultados = pd.DataFrame({ \n",
    "    \"Medias\":[\"mediaRedacao\",\"mediaMatematica\"],\n",
    "    \"Resultados\":[mediaRedacao,mediaMatematica]\n",
    "})\n"
   ]
  },
  {
   "cell_type": "code",
   "execution_count": 42,
   "metadata": {},
   "outputs": [
    {
     "data": {
      "text/html": [
       "<div>\n",
       "<style scoped>\n",
       "    .dataframe tbody tr th:only-of-type {\n",
       "        vertical-align: middle;\n",
       "    }\n",
       "\n",
       "    .dataframe tbody tr th {\n",
       "        vertical-align: top;\n",
       "    }\n",
       "\n",
       "    .dataframe thead th {\n",
       "        text-align: right;\n",
       "    }\n",
       "</style>\n",
       "<table border=\"1\" class=\"dataframe\">\n",
       "  <thead>\n",
       "    <tr style=\"text-align: right;\">\n",
       "      <th></th>\n",
       "      <th>Medias</th>\n",
       "      <th>Resultados</th>\n",
       "    </tr>\n",
       "  </thead>\n",
       "  <tbody>\n",
       "    <tr>\n",
       "      <th>0</th>\n",
       "      <td>mediaRedacao</td>\n",
       "      <td>81.875741</td>\n",
       "    </tr>\n",
       "    <tr>\n",
       "      <th>1</th>\n",
       "      <td>mediaMatematica</td>\n",
       "      <td>78.984934</td>\n",
       "    </tr>\n",
       "  </tbody>\n",
       "</table>\n",
       "</div>"
      ],
      "text/plain": [
       "            Medias  Resultados\n",
       "0     mediaRedacao   81.875741\n",
       "1  mediaMatematica   78.984934"
      ]
     },
     "execution_count": 42,
     "metadata": {},
     "output_type": "execute_result"
    }
   ],
   "source": [
    "resultados"
   ]
  },
  {
   "cell_type": "markdown",
   "metadata": {},
   "source": [
    "Quantos alunos ficaram com nota superior a 90 em redação?"
   ]
  },
  {
   "cell_type": "code",
   "execution_count": 59,
   "metadata": {},
   "outputs": [
    {
     "data": {
      "text/plain": [
       "9973"
      ]
     },
     "execution_count": 59,
     "metadata": {},
     "output_type": "execute_result"
    }
   ],
   "source": [
    "hightRed=data[data[\"Nota_Redacao\"]>90]\n",
    "# Tamanho do conjunto\n",
    "len(hightRed)\n",
    "\n",
    "\n",
    "len(hightRed) \n"
   ]
  },
  {
   "cell_type": "markdown",
   "metadata": {},
   "source": [
    "E qual o percentual?"
   ]
  },
  {
   "cell_type": "code",
   "execution_count": 60,
   "metadata": {},
   "outputs": [
    {
     "data": {
      "text/plain": [
       "25.4673"
      ]
     },
     "execution_count": 60,
     "metadata": {},
     "output_type": "execute_result"
    }
   ],
   "source": [
    "round(len(hightRed)/len(estudantes)*100,4)"
   ]
  },
  {
   "cell_type": "markdown",
   "metadata": {},
   "source": [
    "Quantos alunos ficaram com nota superior a 90 em matemática? "
   ]
  },
  {
   "cell_type": "code",
   "execution_count": 61,
   "metadata": {},
   "outputs": [
    {
     "data": {
      "text/plain": [
       "8834"
      ]
     },
     "execution_count": 61,
     "metadata": {},
     "output_type": "execute_result"
    }
   ],
   "source": [
    "hightMat=data[data[\"Nota_Matematica\"]>90]\n",
    "# Tamanho do conjunto\n",
    "len(hightMat)\n",
    "\n",
    "\n",
    "len(hightMat) "
   ]
  },
  {
   "cell_type": "markdown",
   "metadata": {},
   "source": [
    "Qual o percentual?"
   ]
  },
  {
   "cell_type": "code",
   "execution_count": 62,
   "metadata": {},
   "outputs": [
    {
     "data": {
      "text/plain": [
       "22.5587"
      ]
     },
     "execution_count": 62,
     "metadata": {},
     "output_type": "execute_result"
    }
   ],
   "source": [
    "round(len(hightMat)/len(estudantes)*100,4)"
   ]
  },
  {
   "cell_type": "markdown",
   "metadata": {},
   "source": [
    "Quantos Alunos tiraram nota maior do que 90 nas duas disciplinas? "
   ]
  },
  {
   "cell_type": "code",
   "execution_count": 63,
   "metadata": {},
   "outputs": [],
   "source": [
    "highBoth=data[(data[\"Nota_Redacao\"]>90) & (data[\"Nota_Matematica\"]>90)]"
   ]
  },
  {
   "cell_type": "markdown",
   "metadata": {},
   "source": [
    "Qual o percentual? "
   ]
  },
  {
   "cell_type": "code",
   "execution_count": 64,
   "metadata": {},
   "outputs": [
    {
     "data": {
      "text/plain": [
       "5.9321"
      ]
     },
     "execution_count": 64,
     "metadata": {},
     "output_type": "execute_result"
    }
   ],
   "source": [
    "round(len(highBoth)/len(estudantes)*100,4)"
   ]
  },
  {
   "cell_type": "markdown",
   "metadata": {},
   "source": [
    "Quantos alunos que obtiveram alto desempenho em ambas as disciplinas são de escolas públicas?"
   ]
  },
  {
   "cell_type": "code",
   "execution_count": 66,
   "metadata": {},
   "outputs": [
    {
     "data": {
      "text/plain": [
       "5         True\n",
       "30        True\n",
       "91        True\n",
       "133       True\n",
       "181       True\n",
       "         ...  \n",
       "39091    False\n",
       "39121    False\n",
       "39127    False\n",
       "39138    False\n",
       "39155    False\n",
       "Name: Tipo_Escola, Length: 2323, dtype: bool"
      ]
     },
     "execution_count": 66,
     "metadata": {},
     "output_type": "execute_result"
    }
   ],
   "source": [
    "# busca as escolas \n",
    "highBoth[\"Tipo_Escola\"]=='Publica'"
   ]
  },
  {
   "cell_type": "code",
   "execution_count": 67,
   "metadata": {},
   "outputs": [
    {
     "data": {
      "text/html": [
       "<div>\n",
       "<style scoped>\n",
       "    .dataframe tbody tr th:only-of-type {\n",
       "        vertical-align: middle;\n",
       "    }\n",
       "\n",
       "    .dataframe tbody tr th {\n",
       "        vertical-align: top;\n",
       "    }\n",
       "\n",
       "    .dataframe thead th {\n",
       "        text-align: right;\n",
       "    }\n",
       "</style>\n",
       "<table border=\"1\" class=\"dataframe\">\n",
       "  <thead>\n",
       "    <tr style=\"text-align: right;\">\n",
       "      <th></th>\n",
       "      <th>ID_Estudante</th>\n",
       "      <th>Nome_Estudante</th>\n",
       "      <th>Genero</th>\n",
       "      <th>Serie</th>\n",
       "      <th>Nome_Escola</th>\n",
       "      <th>Nota_Redacao</th>\n",
       "      <th>Nota_Matematica</th>\n",
       "      <th>ID_Escola</th>\n",
       "      <th>Tipo_Escola</th>\n",
       "      <th>Numero_Alunos</th>\n",
       "      <th>Orcamento_Anual</th>\n",
       "    </tr>\n",
       "  </thead>\n",
       "  <tbody>\n",
       "    <tr>\n",
       "      <th>5</th>\n",
       "      <td>5</td>\n",
       "      <td>James Miranda</td>\n",
       "      <td>M</td>\n",
       "      <td>6</td>\n",
       "      <td>Escola A</td>\n",
       "      <td>94</td>\n",
       "      <td>94</td>\n",
       "      <td>0</td>\n",
       "      <td>Publica</td>\n",
       "      <td>2917</td>\n",
       "      <td>1910635</td>\n",
       "    </tr>\n",
       "    <tr>\n",
       "      <th>30</th>\n",
       "      <td>30</td>\n",
       "      <td>Bobby Harris</td>\n",
       "      <td>M</td>\n",
       "      <td>6</td>\n",
       "      <td>Escola A</td>\n",
       "      <td>94</td>\n",
       "      <td>99</td>\n",
       "      <td>0</td>\n",
       "      <td>Publica</td>\n",
       "      <td>2917</td>\n",
       "      <td>1910635</td>\n",
       "    </tr>\n",
       "    <tr>\n",
       "      <th>91</th>\n",
       "      <td>91</td>\n",
       "      <td>Mark Cherry</td>\n",
       "      <td>M</td>\n",
       "      <td>7</td>\n",
       "      <td>Escola A</td>\n",
       "      <td>96</td>\n",
       "      <td>98</td>\n",
       "      <td>0</td>\n",
       "      <td>Publica</td>\n",
       "      <td>2917</td>\n",
       "      <td>1910635</td>\n",
       "    </tr>\n",
       "    <tr>\n",
       "      <th>133</th>\n",
       "      <td>133</td>\n",
       "      <td>Marisa Lowe</td>\n",
       "      <td>F</td>\n",
       "      <td>6</td>\n",
       "      <td>Escola A</td>\n",
       "      <td>95</td>\n",
       "      <td>95</td>\n",
       "      <td>0</td>\n",
       "      <td>Publica</td>\n",
       "      <td>2917</td>\n",
       "      <td>1910635</td>\n",
       "    </tr>\n",
       "    <tr>\n",
       "      <th>181</th>\n",
       "      <td>181</td>\n",
       "      <td>Matthew Anderson</td>\n",
       "      <td>M</td>\n",
       "      <td>8</td>\n",
       "      <td>Escola A</td>\n",
       "      <td>92</td>\n",
       "      <td>99</td>\n",
       "      <td>0</td>\n",
       "      <td>Publica</td>\n",
       "      <td>2917</td>\n",
       "      <td>1910635</td>\n",
       "    </tr>\n",
       "    <tr>\n",
       "      <th>...</th>\n",
       "      <td>...</td>\n",
       "      <td>...</td>\n",
       "      <td>...</td>\n",
       "      <td>...</td>\n",
       "      <td>...</td>\n",
       "      <td>...</td>\n",
       "      <td>...</td>\n",
       "      <td>...</td>\n",
       "      <td>...</td>\n",
       "      <td>...</td>\n",
       "      <td>...</td>\n",
       "    </tr>\n",
       "    <tr>\n",
       "      <th>37402</th>\n",
       "      <td>37402</td>\n",
       "      <td>Richard Campbell</td>\n",
       "      <td>M</td>\n",
       "      <td>6</td>\n",
       "      <td>Escola N</td>\n",
       "      <td>94</td>\n",
       "      <td>99</td>\n",
       "      <td>13</td>\n",
       "      <td>Publica</td>\n",
       "      <td>2739</td>\n",
       "      <td>1763916</td>\n",
       "    </tr>\n",
       "    <tr>\n",
       "      <th>37434</th>\n",
       "      <td>37434</td>\n",
       "      <td>Cassandra Kim</td>\n",
       "      <td>F</td>\n",
       "      <td>7</td>\n",
       "      <td>Escola N</td>\n",
       "      <td>91</td>\n",
       "      <td>98</td>\n",
       "      <td>13</td>\n",
       "      <td>Publica</td>\n",
       "      <td>2739</td>\n",
       "      <td>1763916</td>\n",
       "    </tr>\n",
       "    <tr>\n",
       "      <th>37447</th>\n",
       "      <td>37447</td>\n",
       "      <td>Autumn Williams</td>\n",
       "      <td>F</td>\n",
       "      <td>6</td>\n",
       "      <td>Escola N</td>\n",
       "      <td>99</td>\n",
       "      <td>97</td>\n",
       "      <td>13</td>\n",
       "      <td>Publica</td>\n",
       "      <td>2739</td>\n",
       "      <td>1763916</td>\n",
       "    </tr>\n",
       "    <tr>\n",
       "      <th>37455</th>\n",
       "      <td>37455</td>\n",
       "      <td>Pamela Douglas</td>\n",
       "      <td>F</td>\n",
       "      <td>8</td>\n",
       "      <td>Escola N</td>\n",
       "      <td>91</td>\n",
       "      <td>99</td>\n",
       "      <td>13</td>\n",
       "      <td>Publica</td>\n",
       "      <td>2739</td>\n",
       "      <td>1763916</td>\n",
       "    </tr>\n",
       "    <tr>\n",
       "      <th>37474</th>\n",
       "      <td>37474</td>\n",
       "      <td>Randall Scott</td>\n",
       "      <td>M</td>\n",
       "      <td>6</td>\n",
       "      <td>Escola N</td>\n",
       "      <td>96</td>\n",
       "      <td>93</td>\n",
       "      <td>13</td>\n",
       "      <td>Publica</td>\n",
       "      <td>2739</td>\n",
       "      <td>1763916</td>\n",
       "    </tr>\n",
       "  </tbody>\n",
       "</table>\n",
       "<p>1321 rows × 11 columns</p>\n",
       "</div>"
      ],
      "text/plain": [
       "       ID_Estudante    Nome_Estudante Genero  Serie Nome_Escola  Nota_Redacao  \\\n",
       "5                 5     James Miranda      M      6    Escola A            94   \n",
       "30               30      Bobby Harris      M      6    Escola A            94   \n",
       "91               91       Mark Cherry      M      7    Escola A            96   \n",
       "133             133       Marisa Lowe      F      6    Escola A            95   \n",
       "181             181  Matthew Anderson      M      8    Escola A            92   \n",
       "...             ...               ...    ...    ...         ...           ...   \n",
       "37402         37402  Richard Campbell      M      6    Escola N            94   \n",
       "37434         37434     Cassandra Kim      F      7    Escola N            91   \n",
       "37447         37447   Autumn Williams      F      6    Escola N            99   \n",
       "37455         37455    Pamela Douglas      F      8    Escola N            91   \n",
       "37474         37474     Randall Scott      M      6    Escola N            96   \n",
       "\n",
       "       Nota_Matematica  ID_Escola Tipo_Escola  Numero_Alunos  Orcamento_Anual  \n",
       "5                   94          0     Publica           2917          1910635  \n",
       "30                  99          0     Publica           2917          1910635  \n",
       "91                  98          0     Publica           2917          1910635  \n",
       "133                 95          0     Publica           2917          1910635  \n",
       "181                 99          0     Publica           2917          1910635  \n",
       "...                ...        ...         ...            ...              ...  \n",
       "37402               99         13     Publica           2739          1763916  \n",
       "37434               98         13     Publica           2739          1763916  \n",
       "37447               97         13     Publica           2739          1763916  \n",
       "37455               99         13     Publica           2739          1763916  \n",
       "37474               93         13     Publica           2739          1763916  \n",
       "\n",
       "[1321 rows x 11 columns]"
      ]
     },
     "execution_count": 67,
     "metadata": {},
     "output_type": "execute_result"
    }
   ],
   "source": [
    "# merge nos dados\n",
    "highBoth[highBoth[\"Tipo_Escola\"]=='Publica']"
   ]
  },
  {
   "cell_type": "code",
   "execution_count": 69,
   "metadata": {},
   "outputs": [
    {
     "data": {
      "text/plain": [
       "Tipo_Escola\n",
       "Publica       1321\n",
       "Particular    1002\n",
       "Name: count, dtype: int64"
      ]
     },
     "execution_count": 69,
     "metadata": {},
     "output_type": "execute_result"
    }
   ],
   "source": [
    "# verificando se ha apenas publicos (metodo presente no pandas)\n",
    "highBoth[\"Tipo_Escola\"].value_counts()"
   ]
  },
  {
   "cell_type": "markdown",
   "metadata": {},
   "source": [
    "Quantas alunas obtiveram alto desempenho em ambas as disciplinas?"
   ]
  },
  {
   "cell_type": "code",
   "execution_count": null,
   "metadata": {},
   "outputs": [],
   "source": []
  },
  {
   "cell_type": "markdown",
   "metadata": {},
   "source": [
    "Como ficou a distribuição dos alunos de alto desempenho pelas série?"
   ]
  },
  {
   "cell_type": "code",
   "execution_count": null,
   "metadata": {},
   "outputs": [],
   "source": []
  },
  {
   "cell_type": "markdown",
   "metadata": {},
   "source": [
    "Qual o total por escolas? "
   ]
  },
  {
   "cell_type": "code",
   "execution_count": null,
   "metadata": {},
   "outputs": [],
   "source": []
  },
  {
   "cell_type": "code",
   "execution_count": null,
   "metadata": {},
   "outputs": [],
   "source": []
  },
  {
   "cell_type": "markdown",
   "metadata": {},
   "source": [
    "Qual o orçamento per capita de cada escola?"
   ]
  },
  {
   "cell_type": "code",
   "execution_count": null,
   "metadata": {},
   "outputs": [],
   "source": []
  },
  {
   "cell_type": "code",
   "execution_count": null,
   "metadata": {},
   "outputs": [],
   "source": []
  },
  {
   "cell_type": "markdown",
   "metadata": {},
   "source": [
    "Quais foram as escolas mais eficientes? \n",
    "\n",
    "Para tentar responder essa pergunta vamos adicionar o percentual de alunos de alto desempenho ao nosso dataset."
   ]
  },
  {
   "cell_type": "code",
   "execution_count": null,
   "metadata": {},
   "outputs": [],
   "source": []
  },
  {
   "cell_type": "code",
   "execution_count": null,
   "metadata": {},
   "outputs": [],
   "source": []
  },
  {
   "cell_type": "code",
   "execution_count": null,
   "metadata": {},
   "outputs": [],
   "source": []
  }
 ],
 "metadata": {
  "kernelspec": {
   "display_name": "venv",
   "language": "python",
   "name": "python3"
  },
  "language_info": {
   "codemirror_mode": {
    "name": "ipython",
    "version": 3
   },
   "file_extension": ".py",
   "mimetype": "text/x-python",
   "name": "python",
   "nbconvert_exporter": "python",
   "pygments_lexer": "ipython3",
   "version": "3.10.2"
  }
 },
 "nbformat": 4,
 "nbformat_minor": 2
}
